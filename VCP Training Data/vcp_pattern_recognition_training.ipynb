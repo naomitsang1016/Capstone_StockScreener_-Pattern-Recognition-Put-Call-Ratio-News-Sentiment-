{
 "cells": [
  {
   "cell_type": "markdown",
   "metadata": {},
   "source": [
    "This script trains the VGG16 model to recognise VCP pattern from a yearly stock chart."
   ]
  },
  {
   "cell_type": "code",
   "execution_count": 1,
   "metadata": {
    "executionInfo": {
     "elapsed": 2550,
     "status": "ok",
     "timestamp": 1626252395166,
     "user": {
      "displayName": "Yu Pan Jacky Chan",
      "photoUrl": "",
      "userId": "16887803657015148851"
     },
     "user_tz": -480
    },
    "id": "CoUpQ_flQ7hC"
   },
   "outputs": [],
   "source": [
    "from pathlib import Path #for reading trained model architecture\n",
    "import numpy as np\n",
    "from keras.preprocessing import image\n",
    "from keras.applications import vgg16\n",
    "from keras.layers import Dense, Dropout, Flatten\n",
    "from keras import callbacks\n",
    "from keras.preprocessing.image import ImageDataGenerator\n",
    "import matplotlib.pyplot as plt\n",
    "%matplotlib inline\n",
    "import tensorflow as tf"
   ]
  },
  {
   "cell_type": "code",
   "execution_count": 4,
   "metadata": {
    "executionInfo": {
     "elapsed": 376,
     "status": "ok",
     "timestamp": 1626253178242,
     "user": {
      "displayName": "Yu Pan Jacky Chan",
      "photoUrl": "",
      "userId": "16887803657015148851"
     },
     "user_tz": -480
    },
    "id": "bcQZ54gzQ7hI"
   },
   "outputs": [],
   "source": [
    "#####################################\n",
    "#Enter the path of the training data#\n",
    "#####################################\n",
    "\n",
    "# Path to folders with training data\n",
    "vcp_path = Path(\"./vcp\")\n",
    "not_vcp_path = Path(\"./non_vcp\") \n",
    "\n",
    "images = []\n",
    "labels = []"
   ]
  },
  {
   "cell_type": "code",
   "execution_count": 6,
   "metadata": {
    "executionInfo": {
     "elapsed": 8414,
     "status": "ok",
     "timestamp": 1626253191677,
     "user": {
      "displayName": "Yu Pan Jacky Chan",
      "photoUrl": "",
      "userId": "16887803657015148851"
     },
     "user_tz": -480
    },
    "id": "zDbZvQAkQ7hK"
   },
   "outputs": [],
   "source": [
    "# Load all the non-vcp images\n",
    "for img in not_vcp_path.glob(\"*.png\"):\n",
    "    # Load the image from disk\n",
    "    img = image.load_img(img)\n",
    "\n",
    "    # Convert the image to a numpy array\n",
    "    image_array = image.img_to_array(img)\n",
    "\n",
    "    # Add the image to the list of images\n",
    "    images.append(image_array)\n",
    "\n",
    "    # For each 'not vcp' image, the label should be 0\n",
    "    labels.append(0)"
   ]
  },
  {
   "cell_type": "code",
   "execution_count": 7,
   "metadata": {
    "executionInfo": {
     "elapsed": 7508,
     "status": "ok",
     "timestamp": 1626253207124,
     "user": {
      "displayName": "Yu Pan Jacky Chan",
      "photoUrl": "",
      "userId": "16887803657015148851"
     },
     "user_tz": -480
    },
    "id": "Eco80RhmQ7hN"
   },
   "outputs": [],
   "source": [
    "# Load all the vcp images\n",
    "for img in vcp_path.glob(\"*.png\"):\n",
    "    # Load the image from disk\n",
    "    img = image.load_img(img)\n",
    "\n",
    "    # Convert the image to a numpy array\n",
    "    image_array = image.img_to_array(img)\n",
    "\n",
    "    # Add the image to the list of images\n",
    "    images.append(image_array)\n",
    "\n",
    "    # For each 'vcp' image, the label should be 1\n",
    "    labels.append(1)"
   ]
  },
  {
   "cell_type": "code",
   "execution_count": 38,
   "metadata": {
    "colab": {
     "base_uri": "https://localhost:8080/"
    },
    "executionInfo": {
     "elapsed": 280,
     "status": "ok",
     "timestamp": 1626253211442,
     "user": {
      "displayName": "Yu Pan Jacky Chan",
      "photoUrl": "",
      "userId": "16887803657015148851"
     },
     "user_tz": -480
    },
    "id": "b4ZQ93BeDfGn",
    "outputId": "3668f4d8-744c-4de2-ef46-67e75cbac329"
   },
   "outputs": [
    {
     "data": {
      "text/plain": [
       "504"
      ]
     },
     "execution_count": 38,
     "metadata": {},
     "output_type": "execute_result"
    }
   ],
   "source": [
    "#Check for total number of data. There should be 504 charts.\n",
    "len(images)"
   ]
  },
  {
   "cell_type": "code",
   "execution_count": 40,
   "metadata": {
    "colab": {
     "base_uri": "https://localhost:8080/",
     "height": 285
    },
    "executionInfo": {
     "elapsed": 385,
     "status": "ok",
     "timestamp": 1626253222742,
     "user": {
      "displayName": "Yu Pan Jacky Chan",
      "photoUrl": "",
      "userId": "16887803657015148851"
     },
     "user_tz": -480
    },
    "id": "lMtQc16CDuM2",
    "outputId": "7f46ae60-ea81-4840-ce1d-1bbca106c920"
   },
   "outputs": [
    {
     "data": {
      "text/plain": [
       "<matplotlib.image.AxesImage at 0x20e4e6b9520>"
      ]
     },
     "execution_count": 40,
     "metadata": {},
     "output_type": "execute_result"
    },
    {
     "data": {
      "image/png": "[encoded data removed]",
      "text/plain": [
       "<Figure size 432x288 with 1 Axes>"
      ]
     },
     "metadata": {
      "needs_background": "light"
     },
     "output_type": "display_data"
    }
   ],
   "source": [
    "'''\n",
    "According to the documentation (https://matplotlib.org/3.5.1/api/_as_gen/matplotlib.pyplot.imshow.html#examples-using-matplotlib-pyplot-imshow),\n",
    "\n",
    "if the input X for imshow(X) is an image array (our case), X has to be an (M,N,3) array with 0-1 float or 0-255 int\n",
    "\n",
    "In our case, since the RBG values are float numbers (from 0 -255), so we need to rescale the vaules to 0-1 float format\n",
    "'''\n",
    "#take a look at one of the chart\n",
    "plt.imshow(images[0]/255.)\n"
   ]
  },
  {
   "cell_type": "code",
   "execution_count": 41,
   "metadata": {
    "colab": {
     "base_uri": "https://localhost:8080/"
    },
    "executionInfo": {
     "elapsed": 352,
     "status": "ok",
     "timestamp": 1626253227401,
     "user": {
      "displayName": "Yu Pan Jacky Chan",
      "photoUrl": "",
      "userId": "16887803657015148851"
     },
     "user_tz": -480
    },
    "id": "brksOxAxD7rA",
    "outputId": "81934ba7-58e4-4d27-f2d3-b2e966a7edd3"
   },
   "outputs": [
    {
     "name": "stdout",
     "output_type": "stream",
     "text": [
      "0\n"
     ]
    }
   ],
   "source": [
    "#check the label of the above chart: 0 = non-VCP; 1 = VCP\n",
    "print(labels[0])"
   ]
  },
  {
   "cell_type": "code",
   "execution_count": 14,
   "metadata": {
    "executionInfo": {
     "elapsed": 1113,
     "status": "ok",
     "timestamp": 1626253232448,
     "user": {
      "displayName": "Yu Pan Jacky Chan",
      "photoUrl": "",
      "userId": "16887803657015148851"
     },
     "user_tz": -480
    },
    "id": "roWvcGstQ7hS"
   },
   "outputs": [],
   "source": [
    "# convert the images to a numpy array\n",
    "X = np.array(images)\n",
    "\n",
    "# Also convert the labels to a numpy array\n",
    "y = np.array(labels)\n",
    "\n",
    "#split the data into training and validation set\n",
    "from sklearn.model_selection import train_test_split\n",
    "X_train, X_test, y_train, y_test = train_test_split(X, y, test_size=0.33, random_state=42)\n"
   ]
  },
  {
   "cell_type": "code",
   "execution_count": 15,
   "metadata": {
    "colab": {
     "base_uri": "https://localhost:8080/"
    },
    "executionInfo": {
     "elapsed": 257,
     "status": "ok",
     "timestamp": 1626253235205,
     "user": {
      "displayName": "Yu Pan Jacky Chan",
      "photoUrl": "",
      "userId": "16887803657015148851"
     },
     "user_tz": -480
    },
    "id": "8WD_xmEzQ7hU",
    "outputId": "9803e8d7-0b6a-432c-bb81-e6b917e82a97"
   },
   "outputs": [
    {
     "data": {
      "text/plain": [
       "(337, 300, 500, 3)"
      ]
     },
     "execution_count": 15,
     "metadata": {},
     "output_type": "execute_result"
    }
   ],
   "source": [
    "#how many images are there in the training set\n",
    "X_train.shape"
   ]
  },
  {
   "cell_type": "code",
   "execution_count": 16,
   "metadata": {},
   "outputs": [
    {
     "data": {
      "text/plain": [
       "(167, 300, 500, 3)"
      ]
     },
     "execution_count": 16,
     "metadata": {},
     "output_type": "execute_result"
    }
   ],
   "source": [
    "#how many images are there in the validation set\n",
    "X_test.shape"
   ]
  },
  {
   "cell_type": "code",
   "execution_count": 18,
   "metadata": {
    "executionInfo": {
     "elapsed": 286,
     "status": "ok",
     "timestamp": 1626253242591,
     "user": {
      "displayName": "Yu Pan Jacky Chan",
      "photoUrl": "",
      "userId": "16887803657015148851"
     },
     "user_tz": -480
    },
    "id": "u-J3nQ4NQ7hX"
   },
   "outputs": [],
   "source": [
    "# Preprocess the input data \n",
    "X_train = vgg16.preprocess_input(X_train)\n",
    "X_test = vgg16.preprocess_input(X_test)"
   ]
  },
  {
   "cell_type": "code",
   "execution_count": 21,
   "metadata": {
    "colab": {
     "base_uri": "https://localhost:8080/"
    },
    "executionInfo": {
     "elapsed": 1296,
     "status": "ok",
     "timestamp": 1626253252541,
     "user": {
      "displayName": "Yu Pan Jacky Chan",
      "photoUrl": "",
      "userId": "16887803657015148851"
     },
     "user_tz": -480
    },
    "id": "bV_PmCrwQ7hc",
    "outputId": "960e4590-b036-4ecc-a4e5-f2ebba64c4b1"
   },
   "outputs": [
    {
     "name": "stdout",
     "output_type": "stream",
     "text": [
      "Downloading data from https://storage.googleapis.com/tensorflow/keras-applications/vgg16/vgg16_weights_tf_dim_ordering_tf_kernels_notop.h5\n",
      "58892288/58889256 [==============================] - 2s 0us/step\n",
      "58900480/58889256 [==============================] - 2s 0us/step\n"
     ]
    }
   ],
   "source": [
    "# Load a pre-trained neural network to use as a feature extractor\n",
    "# set include_top = False to remove the top layer to be replaced by our own classifier\n",
    "base_model = vgg16.VGG16(weights='imagenet', include_top=False, input_shape=(300, 500, 3))"
   ]
  },
  {
   "cell_type": "code",
   "execution_count": 25,
   "metadata": {
    "colab": {
     "base_uri": "https://localhost:8080/"
    },
    "executionInfo": {
     "elapsed": 357,
     "status": "ok",
     "timestamp": 1626253266412,
     "user": {
      "displayName": "Yu Pan Jacky Chan",
      "photoUrl": "",
      "userId": "16887803657015148851"
     },
     "user_tz": -480
    },
    "id": "go0DgS3VQ7hf",
    "outputId": "5d368524-daf6-478c-dea3-eee6fe4e2767"
   },
   "outputs": [
    {
     "name": "stdout",
     "output_type": "stream",
     "text": [
      "Model: \"vgg16\"\n",
      "_________________________________________________________________\n",
      " Layer (type)                Output Shape              Param #   \n",
      "=================================================================\n",
      " input_1 (InputLayer)        [(None, 300, 500, 3)]     0         \n",
      "                                                                 \n",
      " block1_conv1 (Conv2D)       (None, 300, 500, 64)      1792      \n",
      "                                                                 \n",
      " block1_conv2 (Conv2D)       (None, 300, 500, 64)      36928     \n",
      "                                                                 \n",
      " block1_pool (MaxPooling2D)  (None, 150, 250, 64)      0         \n",
      "                                                                 \n",
      " block2_conv1 (Conv2D)       (None, 150, 250, 128)     73856     \n",
      "                                                                 \n",
      " block2_conv2 (Conv2D)       (None, 150, 250, 128)     147584    \n",
      "                                                                 \n",
      " block2_pool (MaxPooling2D)  (None, 75, 125, 128)      0         \n",
      "                                                                 \n",
      " block3_conv1 (Conv2D)       (None, 75, 125, 256)      295168    \n",
      "                                                                 \n",
      " block3_conv2 (Conv2D)       (None, 75, 125, 256)      590080    \n",
      "                                                                 \n",
      " block3_conv3 (Conv2D)       (None, 75, 125, 256)      590080    \n",
      "                                                                 \n",
      " block3_pool (MaxPooling2D)  (None, 37, 62, 256)       0         \n",
      "                                                                 \n",
      " block4_conv1 (Conv2D)       (None, 37, 62, 512)       1180160   \n",
      "                                                                 \n",
      " block4_conv2 (Conv2D)       (None, 37, 62, 512)       2359808   \n",
      "                                                                 \n",
      " block4_conv3 (Conv2D)       (None, 37, 62, 512)       2359808   \n",
      "                                                                 \n",
      " block4_pool (MaxPooling2D)  (None, 18, 31, 512)       0         \n",
      "                                                                 \n",
      " block5_conv1 (Conv2D)       (None, 18, 31, 512)       2359808   \n",
      "                                                                 \n",
      " block5_conv2 (Conv2D)       (None, 18, 31, 512)       2359808   \n",
      "                                                                 \n",
      " block5_conv3 (Conv2D)       (None, 18, 31, 512)       2359808   \n",
      "                                                                 \n",
      " block5_pool (MaxPooling2D)  (None, 9, 15, 512)        0         \n",
      "                                                                 \n",
      "=================================================================\n",
      "Total params: 14,714,688\n",
      "Trainable params: 0\n",
      "Non-trainable params: 14,714,688\n",
      "_________________________________________________________________\n"
     ]
    }
   ],
   "source": [
    "base_model.summary()"
   ]
  },
  {
   "cell_type": "code",
   "execution_count": 23,
   "metadata": {
    "colab": {
     "base_uri": "https://localhost:8080/"
    },
    "executionInfo": {
     "elapsed": 315,
     "status": "ok",
     "timestamp": 1626253272659,
     "user": {
      "displayName": "Yu Pan Jacky Chan",
      "photoUrl": "",
      "userId": "16887803657015148851"
     },
     "user_tz": -480
    },
    "id": "nX5xDRHEQ7hh",
    "outputId": "ef1059cc-b015-4db4-cda1-175668204d8d",
    "scrolled": true
   },
   "outputs": [
    {
     "name": "stdout",
     "output_type": "stream",
     "text": [
      "Model: \"model\"\n",
      "_________________________________________________________________\n",
      " Layer (type)                Output Shape              Param #   \n",
      "=================================================================\n",
      " input_1 (InputLayer)        [(None, 300, 500, 3)]     0         \n",
      "                                                                 \n",
      " block1_conv1 (Conv2D)       (None, 300, 500, 64)      1792      \n",
      "                                                                 \n",
      " block1_conv2 (Conv2D)       (None, 300, 500, 64)      36928     \n",
      "                                                                 \n",
      " block1_pool (MaxPooling2D)  (None, 150, 250, 64)      0         \n",
      "                                                                 \n",
      " block2_conv1 (Conv2D)       (None, 150, 250, 128)     73856     \n",
      "                                                                 \n",
      " block2_conv2 (Conv2D)       (None, 150, 250, 128)     147584    \n",
      "                                                                 \n",
      " block2_pool (MaxPooling2D)  (None, 75, 125, 128)      0         \n",
      "                                                                 \n",
      " block3_conv1 (Conv2D)       (None, 75, 125, 256)      295168    \n",
      "                                                                 \n",
      " block3_conv2 (Conv2D)       (None, 75, 125, 256)      590080    \n",
      "                                                                 \n",
      " block3_conv3 (Conv2D)       (None, 75, 125, 256)      590080    \n",
      "                                                                 \n",
      " block3_pool (MaxPooling2D)  (None, 37, 62, 256)       0         \n",
      "                                                                 \n",
      " block4_conv1 (Conv2D)       (None, 37, 62, 512)       1180160   \n",
      "                                                                 \n",
      " block4_conv2 (Conv2D)       (None, 37, 62, 512)       2359808   \n",
      "                                                                 \n",
      " block4_conv3 (Conv2D)       (None, 37, 62, 512)       2359808   \n",
      "                                                                 \n",
      " block4_pool (MaxPooling2D)  (None, 18, 31, 512)       0         \n",
      "                                                                 \n",
      " block5_conv1 (Conv2D)       (None, 18, 31, 512)       2359808   \n",
      "                                                                 \n",
      " block5_conv2 (Conv2D)       (None, 18, 31, 512)       2359808   \n",
      "                                                                 \n",
      " block5_conv3 (Conv2D)       (None, 18, 31, 512)       2359808   \n",
      "                                                                 \n",
      " block5_pool (MaxPooling2D)  (None, 9, 15, 512)        0         \n",
      "                                                                 \n",
      " flatten (Flatten)           (None, 69120)             0         \n",
      "                                                                 \n",
      " dense (Dense)               (None, 128)               8847488   \n",
      "                                                                 \n",
      " dense_1 (Dense)             (None, 128)               16512     \n",
      "                                                                 \n",
      " dropout (Dropout)           (None, 128)               0         \n",
      "                                                                 \n",
      " dense_2 (Dense)             (None, 1)                 129       \n",
      "                                                                 \n",
      "=================================================================\n",
      "Total params: 23,578,817\n",
      "Trainable params: 23,578,817\n",
      "Non-trainable params: 0\n",
      "_________________________________________________________________\n",
      "None\n"
     ]
    }
   ],
   "source": [
    "# Define the layers in the new classification prediction \n",
    "from keras.models import Model\n",
    "x = base_model.output  \n",
    "x = Flatten()(x)\n",
    "x = Dense(128, activation='relu')(x)  \n",
    "      # new FC layer, random init\n",
    "x = Dense(128, activation='relu')(x)        # new FC layer, random init\n",
    "x = Dropout(0.2)(x)\n",
    "predictions = Dense(1, activation='sigmoid')(x)  # new sigmoid layer\n",
    "\n",
    "# Define trainable model which links input from the  base model to the new classification prediction layers\n",
    "model = Model(inputs=base_model.input, outputs=predictions)\n",
    "\n",
    "# print model structure diagram\n",
    "print (model.summary())"
   ]
  },
  {
   "cell_type": "code",
   "execution_count": 24,
   "metadata": {
    "colab": {
     "base_uri": "https://localhost:8080/"
    },
    "executionInfo": {
     "elapsed": 708,
     "status": "ok",
     "timestamp": 1626253279900,
     "user": {
      "displayName": "Yu Pan Jacky Chan",
      "photoUrl": "",
      "userId": "16887803657015148851"
     },
     "user_tz": -480
    },
    "id": "LewwA5TWQ7hk",
    "outputId": "d630f9dd-14d5-490f-bfc3-e14a94b27527"
   },
   "outputs": [
    {
     "name": "stdout",
     "output_type": "stream",
     "text": [
      "\n",
      "Performing Transfer Learning\n",
      "<keras.engine.input_layer.InputLayer object at 0x0000020DE0D7E2E0>\n",
      "<keras.layers.convolutional.Conv2D object at 0x0000020E4DD1FC70>\n",
      "<keras.layers.convolutional.Conv2D object at 0x0000020E4DD772B0>\n",
      "<keras.layers.pooling.MaxPooling2D object at 0x0000020E4DDE4730>\n",
      "<keras.layers.convolutional.Conv2D object at 0x0000020E4DDE40A0>\n",
      "<keras.layers.convolutional.Conv2D object at 0x0000020E4DE99B80>\n",
      "<keras.layers.pooling.MaxPooling2D object at 0x0000020E4DE9FE50>\n",
      "<keras.layers.convolutional.Conv2D object at 0x0000020E4DE9FC40>\n",
      "<keras.layers.convolutional.Conv2D object at 0x0000020E4DEAE130>\n",
      "<keras.layers.convolutional.Conv2D object at 0x0000020E4E0C0100>\n",
      "<keras.layers.pooling.MaxPooling2D object at 0x0000020E4DEA3E20>\n",
      "<keras.layers.convolutional.Conv2D object at 0x0000020E4DEAEA00>\n",
      "<keras.layers.convolutional.Conv2D object at 0x0000020E4E0D11C0>\n",
      "<keras.layers.convolutional.Conv2D object at 0x0000020E4E0D1B20>\n",
      "<keras.layers.pooling.MaxPooling2D object at 0x0000020E4E0D5880>\n",
      "<keras.layers.convolutional.Conv2D object at 0x0000020E4E0D5250>\n",
      "<keras.layers.convolutional.Conv2D object at 0x0000020E4E0D9A60>\n",
      "<keras.layers.convolutional.Conv2D object at 0x0000020E4E0C9190>\n",
      "<keras.layers.pooling.MaxPooling2D object at 0x0000020E4E0DDA60>\n"
     ]
    }
   ],
   "source": [
    "# Transfer Learning\n",
    "print ('\\nPerforming Transfer Learning')\n",
    "  #   Freeze all layers in the vgg16 base model \n",
    "#because the vgg16 has already been trained\n",
    "#we don't need to train them again \n",
    "\n",
    "for layer in base_model.layers:\n",
    "  print(layer)\n",
    "  layer.trainable = False\n",
    "#   Define model compile for basic Transfer Learning\n",
    "model.compile(optimizer='adam', loss='binary_crossentropy', metrics=['accuracy'])\n"
   ]
  },
  {
   "cell_type": "code",
   "execution_count": 26,
   "metadata": {
    "colab": {
     "base_uri": "https://localhost:8080/"
    },
    "executionInfo": {
     "elapsed": 387,
     "status": "ok",
     "timestamp": 1626253286072,
     "user": {
      "displayName": "Yu Pan Jacky Chan",
      "photoUrl": "",
      "userId": "16887803657015148851"
     },
     "user_tz": -480
    },
    "id": "_pHcFrJNJHp7",
    "outputId": "0f9174a8-cb51-46f2-ed67-70e3b735d417"
   },
   "outputs": [
    {
     "name": "stdout",
     "output_type": "stream",
     "text": [
      "Model: \"model\"\n",
      "_________________________________________________________________\n",
      " Layer (type)                Output Shape              Param #   \n",
      "=================================================================\n",
      " input_1 (InputLayer)        [(None, 300, 500, 3)]     0         \n",
      "                                                                 \n",
      " block1_conv1 (Conv2D)       (None, 300, 500, 64)      1792      \n",
      "                                                                 \n",
      " block1_conv2 (Conv2D)       (None, 300, 500, 64)      36928     \n",
      "                                                                 \n",
      " block1_pool (MaxPooling2D)  (None, 150, 250, 64)      0         \n",
      "                                                                 \n",
      " block2_conv1 (Conv2D)       (None, 150, 250, 128)     73856     \n",
      "                                                                 \n",
      " block2_conv2 (Conv2D)       (None, 150, 250, 128)     147584    \n",
      "                                                                 \n",
      " block2_pool (MaxPooling2D)  (None, 75, 125, 128)      0         \n",
      "                                                                 \n",
      " block3_conv1 (Conv2D)       (None, 75, 125, 256)      295168    \n",
      "                                                                 \n",
      " block3_conv2 (Conv2D)       (None, 75, 125, 256)      590080    \n",
      "                                                                 \n",
      " block3_conv3 (Conv2D)       (None, 75, 125, 256)      590080    \n",
      "                                                                 \n",
      " block3_pool (MaxPooling2D)  (None, 37, 62, 256)       0         \n",
      "                                                                 \n",
      " block4_conv1 (Conv2D)       (None, 37, 62, 512)       1180160   \n",
      "                                                                 \n",
      " block4_conv2 (Conv2D)       (None, 37, 62, 512)       2359808   \n",
      "                                                                 \n",
      " block4_conv3 (Conv2D)       (None, 37, 62, 512)       2359808   \n",
      "                                                                 \n",
      " block4_pool (MaxPooling2D)  (None, 18, 31, 512)       0         \n",
      "                                                                 \n",
      " block5_conv1 (Conv2D)       (None, 18, 31, 512)       2359808   \n",
      "                                                                 \n",
      " block5_conv2 (Conv2D)       (None, 18, 31, 512)       2359808   \n",
      "                                                                 \n",
      " block5_conv3 (Conv2D)       (None, 18, 31, 512)       2359808   \n",
      "                                                                 \n",
      " block5_pool (MaxPooling2D)  (None, 9, 15, 512)        0         \n",
      "                                                                 \n",
      " flatten (Flatten)           (None, 69120)             0         \n",
      "                                                                 \n",
      " dense (Dense)               (None, 128)               8847488   \n",
      "                                                                 \n",
      " dense_1 (Dense)             (None, 128)               16512     \n",
      "                                                                 \n",
      " dropout (Dropout)           (None, 128)               0         \n",
      "                                                                 \n",
      " dense_2 (Dense)             (None, 1)                 129       \n",
      "                                                                 \n",
      "=================================================================\n",
      "Total params: 23,578,817\n",
      "Trainable params: 8,864,129\n",
      "Non-trainable params: 14,714,688\n",
      "_________________________________________________________________\n"
     ]
    }
   ],
   "source": [
    "model.summary()"
   ]
  },
  {
   "cell_type": "code",
   "execution_count": 27,
   "metadata": {
    "colab": {
     "base_uri": "https://localhost:8080/"
    },
    "executionInfo": {
     "elapsed": 98885,
     "status": "ok",
     "timestamp": 1626253388587,
     "user": {
      "displayName": "Yu Pan Jacky Chan",
      "photoUrl": "",
      "userId": "16887803657015148851"
     },
     "user_tz": -480
    },
    "id": "7ZifPm8NQ7hn",
    "outputId": "50f91457-f1fd-4bc9-bd7d-bc827c0f2fd3"
   },
   "outputs": [
    {
     "name": "stdout",
     "output_type": "stream",
     "text": [
      "Epoch 1/20\n",
      "43/43 [==============================] - 147s 3s/step - loss: 10.8462 - accuracy: 0.6944 - val_loss: 6.3032 - val_accuracy: 0.6766\n",
      "Epoch 2/20\n",
      "43/43 [==============================] - 115s 3s/step - loss: 4.0603 - accuracy: 0.7864 - val_loss: 3.4663 - val_accuracy: 0.7485\n",
      "Epoch 3/20\n",
      "43/43 [==============================] - 106s 2s/step - loss: 1.2805 - accuracy: 0.8724 - val_loss: 1.1761 - val_accuracy: 0.8263\n",
      "Epoch 4/20\n",
      "43/43 [==============================] - 103s 2s/step - loss: 0.7718 - accuracy: 0.8635 - val_loss: 1.0477 - val_accuracy: 0.8323\n",
      "Epoch 5/20\n",
      "43/43 [==============================] - 104s 2s/step - loss: 0.5562 - accuracy: 0.9199 - val_loss: 1.5523 - val_accuracy: 0.8383\n",
      "Epoch 6/20\n",
      "43/43 [==============================] - 104s 2s/step - loss: 1.1111 - accuracy: 0.9139 - val_loss: 3.1746 - val_accuracy: 0.7964\n",
      "Epoch 7/20\n",
      "43/43 [==============================] - 104s 2s/step - loss: 0.6350 - accuracy: 0.9288 - val_loss: 2.9903 - val_accuracy: 0.7725\n",
      "Epoch 8/20\n",
      "43/43 [==============================] - 104s 2s/step - loss: 0.4283 - accuracy: 0.9318 - val_loss: 2.3159 - val_accuracy: 0.7844\n",
      "Epoch 9/20\n",
      "43/43 [==============================] - 103s 2s/step - loss: 0.3145 - accuracy: 0.9318 - val_loss: 2.2787 - val_accuracy: 0.7545\n",
      "Epoch 10/20\n",
      "43/43 [==============================] - 104s 2s/step - loss: 0.3045 - accuracy: 0.9555 - val_loss: 1.0687 - val_accuracy: 0.8563\n",
      "Epoch 11/20\n",
      "43/43 [==============================] - 101s 2s/step - loss: 0.1267 - accuracy: 0.9703 - val_loss: 1.3698 - val_accuracy: 0.8204\n",
      "Epoch 12/20\n",
      "43/43 [==============================] - 99s 2s/step - loss: 0.0181 - accuracy: 0.9941 - val_loss: 1.5444 - val_accuracy: 0.8263\n",
      "Epoch 13/20\n",
      "43/43 [==============================] - 99s 2s/step - loss: 0.0153 - accuracy: 0.9941 - val_loss: 1.8456 - val_accuracy: 0.8263\n",
      "Epoch 14/20\n",
      "43/43 [==============================] - 100s 2s/step - loss: 0.0275 - accuracy: 0.9941 - val_loss: 2.1490 - val_accuracy: 0.8204\n",
      "Epoch 15/20\n",
      "43/43 [==============================] - 99s 2s/step - loss: 0.0269 - accuracy: 0.9911 - val_loss: 2.3887 - val_accuracy: 0.8144\n",
      "Epoch 16/20\n",
      "43/43 [==============================] - 99s 2s/step - loss: 0.0152 - accuracy: 0.9970 - val_loss: 2.6428 - val_accuracy: 0.8084\n",
      "Epoch 17/20\n",
      "43/43 [==============================] - 99s 2s/step - loss: 0.0753 - accuracy: 0.9941 - val_loss: 2.1838 - val_accuracy: 0.8204\n",
      "Epoch 18/20\n",
      "43/43 [==============================] - 99s 2s/step - loss: 0.5382 - accuracy: 0.9407 - val_loss: 1.8094 - val_accuracy: 0.8383\n",
      "Epoch 19/20\n",
      "43/43 [==============================] - 101s 2s/step - loss: 0.3689 - accuracy: 0.9318 - val_loss: 1.8045 - val_accuracy: 0.8024\n",
      "Epoch 20/20\n",
      "43/43 [==============================] - 99s 2s/step - loss: 0.0995 - accuracy: 0.9674 - val_loss: 2.3719 - val_accuracy: 0.8084\n"
     ]
    },
    {
     "data": {
      "text/plain": [
       "<keras.callbacks.History at 0x20e4e6b9ca0>"
      ]
     },
     "execution_count": 27,
     "metadata": {},
     "output_type": "execute_result"
    }
   ],
   "source": [
    "# Train the model\n",
    "model.fit(\n",
    "    X_train,\n",
    "    y_train,\n",
    "    epochs=20,\n",
    "    batch_size=8,\n",
    "    validation_data=(X_test,y_test)\n",
    ")"
   ]
  },
  {
   "cell_type": "code",
   "execution_count": 28,
   "metadata": {},
   "outputs": [],
   "source": [
    "#MOST IMPORTANTLY, save the model\n",
    "model.save('VCP_model_v1.h5') "
   ]
  }
 ],
 "metadata": {
  "colab": {
   "collapsed_sections": [],
   "name": "TransferLearningVGG16-EarlyStopping.ipynb",
   "provenance": []
  },
  "kernelspec": {
   "display_name": "Python 3 (ipykernel)",
   "language": "python",
   "name": "python3"
  },
  "language_info": {
   "codemirror_mode": {
    "name": "ipython",
    "version": 3
   },
   "file_extension": ".py",
   "mimetype": "text/x-python",
   "name": "python",
   "nbconvert_exporter": "python",
   "pygments_lexer": "ipython3",
   "version": "3.9.7"
  }
 },
 "nbformat": 4,
 "nbformat_minor": 1
}
